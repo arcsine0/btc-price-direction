{
 "cells": [
  {
   "cell_type": "code",
   "execution_count": 1,
   "metadata": {},
   "outputs": [
    {
     "name": "stderr",
     "output_type": "stream",
     "text": [
      "C:\\Users\\Raphael\\AppData\\Local\\Temp\\ipykernel_6232\\1452565717.py:1: DeprecationWarning: \n",
      "Pyarrow will become a required dependency of pandas in the next major release of pandas (pandas 3.0),\n",
      "(to allow more performant data types, such as the Arrow string type, and better interoperability with other libraries)\n",
      "but was not found to be installed on your system.\n",
      "If this would cause problems for you,\n",
      "please provide us feedback at https://github.com/pandas-dev/pandas/issues/54466\n",
      "        \n",
      "  import pandas as pd\n"
     ]
    }
   ],
   "source": [
    "import pandas as pd\n",
    "import pandas_ta as ta\n",
    "\n",
    "import numpy as np\n",
    "\n",
    "from binance.client import Client"
   ]
  },
  {
   "cell_type": "code",
   "execution_count": 2,
   "metadata": {},
   "outputs": [],
   "source": [
    "API_KEY = 'RwcyYmFY6OF7X9YA3Qqcsrl2mAeXcUe0NGfvazewcQkBJufS2KcUu5sNmC7FH72H'\n",
    "API_SECRET = 'jetpp0MLsIogVLSX48OXYoCGVxTPFp9TBuNJKMGmmZPywU8rL9mur77PzpNk5nFc'"
   ]
  },
  {
   "cell_type": "code",
   "execution_count": 3,
   "metadata": {},
   "outputs": [],
   "source": [
    "client = Client(API_KEY, API_SECRET)"
   ]
  },
  {
   "cell_type": "code",
   "execution_count": 4,
   "metadata": {},
   "outputs": [],
   "source": [
    "res = client.futures_historical_klines(\"BTCUSDT\", client.KLINE_INTERVAL_1DAY, \"1 Jan, 2017\")\n",
    "\n",
    "kline_data = [item[0:11] for item in res]\n",
    "\n",
    "coins_df = pd.DataFrame(kline_data, columns=['TIMESTAMP', 'OPEN', 'LOW', 'HIGH', 'CLOSE', 'VOLUME', 'TIMESTAMP_CLOSE', 'VOLUME_QUOTE', 'TRADES', 'TAKER_BASE', 'TAKER_QUOTE'])\n",
    "coins_df['TIMESTAMP'] = coins_df['TIMESTAMP'].astype(str)\n",
    "coins_df['TIMESTAMP_CLOSE'] = coins_df['TIMESTAMP_CLOSE'].astype(str)\n",
    "\n",
    "# 'STDEV', 'RSI', 'PIVOT', 'SUPPORT', 'RESISTANCE', 'BB_MIDDLE', 'BB_UPPER', 'BB_LOW', 'MACD', 'MACDh', 'MACDs', 'FWMA', 'WMA', 'EMA', 'ATR',\n",
    "context_columns = ['TIMESTAMP', 'TIMESTAMP_CLOSE']\n",
    "numeric_columns = ['OPEN', 'LOW', 'HIGH', 'CLOSE', 'VOLUME', 'VOLUME_QUOTE', 'TRADES', 'TAKER_BASE', 'TAKER_QUOTE']\n",
    "class_columns = ['VOL_SPIKE', 'VOL_DIV', 'Previous_Dir']\n",
    "for column in numeric_columns:\n",
    "    coins_df[column] = coins_df[column].astype(float).round(2)\n",
    "\n",
    "coins_df.dropna(inplace=True)\n",
    "coins_df.reset_index(drop=True, inplace=True)\n",
    "\n",
    "coins_df.to_csv('../raws/btc_raw_1D.csv', index=False)"
   ]
  }
 ],
 "metadata": {
  "kernelspec": {
   "display_name": "Python 3",
   "language": "python",
   "name": "python3"
  },
  "language_info": {
   "codemirror_mode": {
    "name": "ipython",
    "version": 3
   },
   "file_extension": ".py",
   "mimetype": "text/x-python",
   "name": "python",
   "nbconvert_exporter": "python",
   "pygments_lexer": "ipython3",
   "version": "3.12.2"
  }
 },
 "nbformat": 4,
 "nbformat_minor": 2
}
